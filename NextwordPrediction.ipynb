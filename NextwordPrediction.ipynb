{
  "nbformat": 4,
  "nbformat_minor": 0,
  "metadata": {
    "colab": {
      "name": "NextwordPrediction.ipynb",
      "provenance": []
    },
    "kernelspec": {
      "name": "python3",
      "display_name": "Python 3"
    },
    "language_info": {
      "name": "python"
    },
    "accelerator": "GPU"
  },
  "cells": [
    {
      "cell_type": "markdown",
      "metadata": {
        "id": "eU4Deu7MV9rm"
      },
      "source": [
        "# Importing the libraries"
      ]
    },
    {
      "cell_type": "code",
      "metadata": {
        "id": "Ci8GpQ5cWV-B"
      },
      "source": [
        "import tensorflow as tf\n",
        "from tensorflow.keras.preprocessing.text import Tokenizer\n",
        "from tensorflow.keras.layers import Embedding, LSTM, Dense\n",
        "from tensorflow.keras.models import Sequential\n",
        "from tensorflow.keras.utils import to_categorical\n",
        "from tensorflow.keras.optimizers import Adam\n",
        "import pickle\n",
        "import numpy as np\n",
        "import os"
      ],
      "execution_count": 2,
      "outputs": []
    },
    {
      "cell_type": "code",
      "metadata": {
        "colab": {
          "resources": {
            "http://localhost:8080/nbextensions/google.colab/files.js": {
              "data": "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",
              "ok": true,
              "headers": [
                [
                  "content-type",
                  "application/javascript"
                ]
              ],
              "status": 200,
              "status_text": ""
            }
          },
          "base_uri": "https://localhost:8080/",
          "height": 73
        },
        "id": "YtQLKu0GWfgu",
        "outputId": "11b58813-c5da-43d4-e3a1-d3bd344af4ce"
      },
      "source": [
        "\n",
        "from google.colab import files\n",
        "uploaded = files.upload()"
      ],
      "execution_count": 3,
      "outputs": [
        {
          "output_type": "display_data",
          "data": {
            "text/html": [
              "\n",
              "     <input type=\"file\" id=\"files-22002bd5-6b0d-4390-b056-f531554c4f09\" name=\"files[]\" multiple disabled\n",
              "        style=\"border:none\" />\n",
              "     <output id=\"result-22002bd5-6b0d-4390-b056-f531554c4f09\">\n",
              "      Upload widget is only available when the cell has been executed in the\n",
              "      current browser session. Please rerun this cell to enable.\n",
              "      </output>\n",
              "      <script src=\"/nbextensions/google.colab/files.js\"></script> "
            ],
            "text/plain": [
              "<IPython.core.display.HTML object>"
            ]
          },
          "metadata": {
            "tags": []
          }
        },
        {
          "output_type": "stream",
          "text": [
            "Saving ip for rnn.txt to ip for rnn.txt\n"
          ],
          "name": "stdout"
        }
      ]
    },
    {
      "cell_type": "markdown",
      "metadata": {
        "id": "c_P_DEe3X_El"
      },
      "source": [
        "# Loading and Pre-Processing the Data"
      ]
    },
    {
      "cell_type": "code",
      "metadata": {
        "colab": {
          "base_uri": "https://localhost:8080/",
          "height": 69
        },
        "id": "P9Pef4Q8YEq4",
        "outputId": "44ed9521-39ca-4e40-a8c4-9142ecadda3a"
      },
      "source": [
        "# Now, Let's Load the data.\n",
        "file = open(\"ip for rnn.txt\", \"r\", encoding = \"utf8\")\n",
        "# we opened the file in reading mode.\n",
        "\n",
        "#Let's Pre-Process the data.\n",
        "#Pre-Processng methods depends on our data.\n",
        "\n",
        "# store file in list\n",
        "lines = []\n",
        "for i in file:\n",
        "    lines.append(i)\n",
        "\n",
        "# Convert list to string\n",
        "data = \"\"\n",
        "for i in lines:\n",
        "  data = ' '. join(lines)\n",
        "\n",
        "#Depending on our data these steps are needed to mae our data suitable for processing.\n",
        "#replace unnecessary stuff with space\n",
        "data = data.replace('\\n', '').replace('\\r', '').replace('\\ufeff', '').replace('“','').replace('”','')  #new line, carriage return, unicode character --> replace by space\n",
        "\n",
        "#remove unnecessary spaces \n",
        "data = data.split()\n",
        "data = ' '.join(data)\n",
        "data[:500]"
      ],
      "execution_count": 4,
      "outputs": [
        {
          "output_type": "execute_result",
          "data": {
            "application/vnd.google.colaboratory.intrinsic+json": {
              "type": "string"
            },
            "text/plain": [
              "'The Project Gutenberg eBook of Pride and Prejudice, by Jane Austen This eBook is for the use of anyone anywhere in the United States and most other parts of the world at no cost and with almost no restrictions whatsoever. You may copy it, give it away or re-use it under the terms of the Project Gutenberg License included with this eBook or online at www.gutenberg.org. If you are not located in the United States, you will have to check the laws of the country where you are located before using th'"
            ]
          },
          "metadata": {
            "tags": []
          },
          "execution_count": 4
        }
      ]
    },
    {
      "cell_type": "code",
      "metadata": {
        "colab": {
          "base_uri": "https://localhost:8080/"
        },
        "id": "HF35-UhEZq9m",
        "outputId": "2170454e-80b3-4bdb-d97c-e9c64032113d"
      },
      "source": [
        "len(data)\n"
      ],
      "execution_count": 5,
      "outputs": [
        {
          "output_type": "execute_result",
          "data": {
            "text/plain": [
              "698483"
            ]
          },
          "metadata": {
            "tags": []
          },
          "execution_count": 5
        }
      ]
    },
    {
      "cell_type": "markdown",
      "metadata": {
        "id": "IS-JfXxzZuLv"
      },
      "source": [
        "# Tokenizer:"
      ]
    },
    {
      "cell_type": "code",
      "metadata": {
        "colab": {
          "base_uri": "https://localhost:8080/"
        },
        "id": "wnInB4OHZt1R",
        "outputId": "ed12aabe-6a71-40b5-c1a6-aa34be07948f"
      },
      "source": [
        "tokenizer = Tokenizer()\n",
        "tokenizer.fit_on_texts([data])\n",
        "\n",
        "# saving the tokenizer for predict function\n",
        "pickle.dump(tokenizer, open('token.pkl', 'wb'))\n",
        "\n",
        "sequence_data = tokenizer.texts_to_sequences([data])[0]\n",
        "sequence_data[:15]"
      ],
      "execution_count": 6,
      "outputs": [
        {
          "output_type": "execute_result",
          "data": {
            "text/plain": [
              "[1, 176, 157, 916, 3, 321, 4, 1174, 30, 72, 2535, 41, 916, 23, 21]"
            ]
          },
          "metadata": {
            "tags": []
          },
          "execution_count": 6
        }
      ]
    },
    {
      "cell_type": "code",
      "metadata": {
        "colab": {
          "base_uri": "https://localhost:8080/"
        },
        "id": "_-qcqGMtZ-AQ",
        "outputId": "9e2283c9-98d4-4c83-e693-b91efa6df25c"
      },
      "source": [
        "len(sequence_data)\n"
      ],
      "execution_count": 7,
      "outputs": [
        {
          "output_type": "execute_result",
          "data": {
            "text/plain": [
              "125317"
            ]
          },
          "metadata": {
            "tags": []
          },
          "execution_count": 7
        }
      ]
    },
    {
      "cell_type": "code",
      "metadata": {
        "colab": {
          "base_uri": "https://localhost:8080/"
        },
        "id": "SAb0NkBaaAyg",
        "outputId": "b95be022-9447-47a2-a7da-79387f982a9e"
      },
      "source": [
        "vocab_size = len(tokenizer.word_index) + 1\n",
        "print(vocab_size)"
      ],
      "execution_count": 8,
      "outputs": [
        {
          "output_type": "stream",
          "text": [
            "7036\n"
          ],
          "name": "stdout"
        }
      ]
    },
    {
      "cell_type": "markdown",
      "metadata": {
        "id": "ZFtcUjmmai-G"
      },
      "source": [
        "Here we are using 3 words to predict the 4th word."
      ]
    },
    {
      "cell_type": "code",
      "metadata": {
        "colab": {
          "base_uri": "https://localhost:8080/"
        },
        "id": "8Eq9UPsHa-CS",
        "outputId": "ebe8cda3-4df0-4da4-ccb6-ea983ad29319"
      },
      "source": [
        "sequences = []\n",
        "\n",
        "for i in range(3, len(sequence_data)):\n",
        "    words = sequence_data[i-3:i+1]\n",
        "    sequences.append(words)\n",
        "    \n",
        "print(\"The Length of sequences are: \", len(sequences))\n",
        "sequences = np.array(sequences)\n",
        "sequences[:10]"
      ],
      "execution_count": 9,
      "outputs": [
        {
          "output_type": "stream",
          "text": [
            "The Length of sequences are:  125314\n"
          ],
          "name": "stdout"
        },
        {
          "output_type": "execute_result",
          "data": {
            "text/plain": [
              "array([[   1,  176,  157,  916],\n",
              "       [ 176,  157,  916,    3],\n",
              "       [ 157,  916,    3,  321],\n",
              "       [ 916,    3,  321,    4],\n",
              "       [   3,  321,    4, 1174],\n",
              "       [ 321,    4, 1174,   30],\n",
              "       [   4, 1174,   30,   72],\n",
              "       [1174,   30,   72, 2535],\n",
              "       [  30,   72, 2535,   41],\n",
              "       [  72, 2535,   41,  916]])"
            ]
          },
          "metadata": {
            "tags": []
          },
          "execution_count": 9
        }
      ]
    },
    {
      "cell_type": "markdown",
      "metadata": {
        "id": "0LhT_5-TbGew"
      },
      "source": [
        "Above array each element has 4 elements the first 3 are the input and the last word is the output."
      ]
    },
    {
      "cell_type": "code",
      "metadata": {
        "id": "FICMFxAObFx-"
      },
      "source": [
        "# Now as we got to kow what are the i/p and o/p are so let's separate them.\n",
        "X = []\n",
        "y = []\n",
        "\n",
        "for i in sequences:\n",
        "    X.append(i[0:3])\n",
        "    y.append(i[3])\n",
        "    \n",
        "X = np.array(X)\n",
        "y = np.array(y)"
      ],
      "execution_count": 10,
      "outputs": []
    },
    {
      "cell_type": "code",
      "metadata": {
        "colab": {
          "base_uri": "https://localhost:8080/"
        },
        "id": "UyB5O09qaPV-",
        "outputId": "796a63db-31a3-407c-f33a-447344ba47f5"
      },
      "source": [
        "print(\"Input Data: \", X[:10])\n",
        "print(\"Output Response: \", y[:10])\n"
      ],
      "execution_count": 11,
      "outputs": [
        {
          "output_type": "stream",
          "text": [
            "Input Data:  [[   1  176  157]\n",
            " [ 176  157  916]\n",
            " [ 157  916    3]\n",
            " [ 916    3  321]\n",
            " [   3  321    4]\n",
            " [ 321    4 1174]\n",
            " [   4 1174   30]\n",
            " [1174   30   72]\n",
            " [  30   72 2535]\n",
            " [  72 2535   41]]\n",
            "Output Response:  [ 916    3  321    4 1174   30   72 2535   41  916]\n"
          ],
          "name": "stdout"
        }
      ]
    },
    {
      "cell_type": "code",
      "metadata": {
        "colab": {
          "base_uri": "https://localhost:8080/"
        },
        "id": "YMT1iAnPdU_h",
        "outputId": "04fb466d-244d-40fb-d24b-5338bbd7e3d2"
      },
      "source": [
        "#Now we will be converting our Class Vectors into some binary Class Matrix Later we will be using Loss function as Categorical Loss entropy. This requires our Interger values to be in Binary Matrice.\n",
        "y = to_categorical(y, num_classes=vocab_size)\n",
        "y[:5]"
      ],
      "execution_count": 12,
      "outputs": [
        {
          "output_type": "execute_result",
          "data": {
            "text/plain": [
              "array([[0., 0., 0., ..., 0., 0., 0.],\n",
              "       [0., 0., 0., ..., 0., 0., 0.],\n",
              "       [0., 0., 0., ..., 0., 0., 0.],\n",
              "       [0., 0., 0., ..., 0., 0., 0.],\n",
              "       [0., 0., 0., ..., 0., 0., 0.]], dtype=float32)"
            ]
          },
          "metadata": {
            "tags": []
          },
          "execution_count": 12
        }
      ]
    },
    {
      "cell_type": "markdown",
      "metadata": {
        "id": "LnWJxrRed7zT"
      },
      "source": [
        "# Now Let's Create the Model"
      ]
    },
    {
      "cell_type": "code",
      "metadata": {
        "id": "4wJvBdpCd_4f"
      },
      "source": [
        "#we will be using Sequential for our model RNN\n",
        "model = Sequential()\n",
        "model.add(Embedding(vocab_size, 10, input_length=3))\n",
        "#input_length means we will be using 3 words to predict next word.\n",
        "model.add(LSTM(1000, return_sequences=True))\n",
        "model.add(LSTM(1000))\n",
        "#Two LSTM layers are there\n",
        "model.add(Dense(1000, activation=\"relu\"))\n",
        "model.add(Dense(vocab_size, activation=\"softmax\"))"
      ],
      "execution_count": 13,
      "outputs": []
    },
    {
      "cell_type": "code",
      "metadata": {
        "colab": {
          "base_uri": "https://localhost:8080/"
        },
        "id": "oB8Q5YEwezLQ",
        "outputId": "462415ad-ea6e-4fd9-d547-2892d337b1d2"
      },
      "source": [
        "model.summary()\n"
      ],
      "execution_count": 14,
      "outputs": [
        {
          "output_type": "stream",
          "text": [
            "Model: \"sequential\"\n",
            "_________________________________________________________________\n",
            "Layer (type)                 Output Shape              Param #   \n",
            "=================================================================\n",
            "embedding (Embedding)        (None, 3, 10)             70360     \n",
            "_________________________________________________________________\n",
            "lstm (LSTM)                  (None, 3, 1000)           4044000   \n",
            "_________________________________________________________________\n",
            "lstm_1 (LSTM)                (None, 1000)              8004000   \n",
            "_________________________________________________________________\n",
            "dense (Dense)                (None, 1000)              1001000   \n",
            "_________________________________________________________________\n",
            "dense_1 (Dense)              (None, 7036)              7043036   \n",
            "=================================================================\n",
            "Total params: 20,162,396\n",
            "Trainable params: 20,162,396\n",
            "Non-trainable params: 0\n",
            "_________________________________________________________________\n"
          ],
          "name": "stdout"
        }
      ]
    },
    {
      "cell_type": "markdown",
      "metadata": {
        "id": "h_Omw04be5A4"
      },
      "source": [
        "# Ploting Our Model"
      ]
    },
    {
      "cell_type": "code",
      "metadata": {
        "colab": {
          "base_uri": "https://localhost:8080/",
          "height": 564
        },
        "id": "m8PJJ7JDe8EP",
        "outputId": "25df329b-add7-4926-d884-107b911a7893"
      },
      "source": [
        "#Just Take a look at Our Model\n",
        "\n",
        "from tensorflow import keras\n",
        "from keras.utils.vis_utils import plot_model\n",
        "\n",
        "keras.utils.plot_model(model, to_file='plot.png', show_layer_names=True)"
      ],
      "execution_count": 15,
      "outputs": [
        {
          "output_type": "execute_result",
          "data": {
            "image/png": "[encoded data removed]",
            "text/plain": [
              "<IPython.core.display.Image object>"
            ]
          },
          "metadata": {
            "tags": []
          },
          "execution_count": 15
        }
      ]
    },
    {
      "cell_type": "markdown",
      "metadata": {
        "id": "vew3sag4fGt9"
      },
      "source": [
        "# Building Our Model"
      ]
    },
    {
      "cell_type": "code",
      "metadata": {
        "colab": {
          "base_uri": "https://localhost:8080/"
        },
        "id": "GpvIhyhifMmo",
        "outputId": "d64a6cdd-8698-4d98-ca94-b75cadbad76b"
      },
      "source": [
        "from tensorflow.keras.callbacks import ModelCheckpoint\n",
        "\n",
        "checkpoint = ModelCheckpoint(\"next_words.h5\", monitor='loss', verbose=1, save_best_only=True)\n",
        "model.compile(loss=\"categorical_crossentropy\", optimizer=Adam(learning_rate=0.001))\n",
        "model.fit(X, y, epochs=70, batch_size=64, callbacks=[checkpoint])"
      ],
      "execution_count": 16,
      "outputs": [
        {
          "output_type": "stream",
          "text": [
            "Epoch 1/70\n",
            "1959/1959 [==============================] - 38s 15ms/step - loss: 6.2294\n",
            "\n",
            "Epoch 00001: loss improved from inf to 6.22942, saving model to next_words.h5\n",
            "Epoch 2/70\n",
            "1959/1959 [==============================] - 30s 15ms/step - loss: 5.5943\n",
            "\n",
            "Epoch 00002: loss improved from 6.22942 to 5.59425, saving model to next_words.h5\n",
            "Epoch 3/70\n",
            "1959/1959 [==============================] - 30s 15ms/step - loss: 5.2643\n",
            "\n",
            "Epoch 00003: loss improved from 5.59425 to 5.26425, saving model to next_words.h5\n",
            "Epoch 4/70\n",
            "1959/1959 [==============================] - 30s 15ms/step - loss: 5.0368\n",
            "\n",
            "Epoch 00004: loss improved from 5.26425 to 5.03678, saving model to next_words.h5\n",
            "Epoch 5/70\n",
            "1959/1959 [==============================] - 30s 15ms/step - loss: 4.8360\n",
            "\n",
            "Epoch 00005: loss improved from 5.03678 to 4.83603, saving model to next_words.h5\n",
            "Epoch 6/70\n",
            "1959/1959 [==============================] - 30s 15ms/step - loss: 4.6383\n",
            "\n",
            "Epoch 00006: loss improved from 4.83603 to 4.63827, saving model to next_words.h5\n",
            "Epoch 7/70\n",
            "1959/1959 [==============================] - 30s 15ms/step - loss: 4.4390\n",
            "\n",
            "Epoch 00007: loss improved from 4.63827 to 4.43897, saving model to next_words.h5\n",
            "Epoch 8/70\n",
            "1959/1959 [==============================] - 30s 15ms/step - loss: 4.2460\n",
            "\n",
            "Epoch 00008: loss improved from 4.43897 to 4.24598, saving model to next_words.h5\n",
            "Epoch 9/70\n",
            "1959/1959 [==============================] - 30s 15ms/step - loss: 4.0521\n",
            "\n",
            "Epoch 00009: loss improved from 4.24598 to 4.05209, saving model to next_words.h5\n",
            "Epoch 10/70\n",
            "1959/1959 [==============================] - 30s 15ms/step - loss: 3.8508\n",
            "\n",
            "Epoch 00010: loss improved from 4.05209 to 3.85077, saving model to next_words.h5\n",
            "Epoch 11/70\n",
            "1959/1959 [==============================] - 30s 15ms/step - loss: 3.6498\n",
            "\n",
            "Epoch 00011: loss improved from 3.85077 to 3.64976, saving model to next_words.h5\n",
            "Epoch 12/70\n",
            "1959/1959 [==============================] - 30s 15ms/step - loss: 3.4436\n",
            "\n",
            "Epoch 00012: loss improved from 3.64976 to 3.44359, saving model to next_words.h5\n",
            "Epoch 13/70\n",
            "1959/1959 [==============================] - 30s 15ms/step - loss: 3.2351\n",
            "\n",
            "Epoch 00013: loss improved from 3.44359 to 3.23513, saving model to next_words.h5\n",
            "Epoch 14/70\n",
            "1959/1959 [==============================] - 30s 15ms/step - loss: 3.0253\n",
            "\n",
            "Epoch 00014: loss improved from 3.23513 to 3.02528, saving model to next_words.h5\n",
            "Epoch 15/70\n",
            "1959/1959 [==============================] - 30s 15ms/step - loss: 2.8119\n",
            "\n",
            "Epoch 00015: loss improved from 3.02528 to 2.81192, saving model to next_words.h5\n",
            "Epoch 16/70\n",
            "1959/1959 [==============================] - 30s 15ms/step - loss: 2.5897\n",
            "\n",
            "Epoch 00016: loss improved from 2.81192 to 2.58974, saving model to next_words.h5\n",
            "Epoch 17/70\n",
            "1959/1959 [==============================] - 30s 15ms/step - loss: 2.3721\n",
            "\n",
            "Epoch 00017: loss improved from 2.58974 to 2.37210, saving model to next_words.h5\n",
            "Epoch 18/70\n",
            "1959/1959 [==============================] - 30s 15ms/step - loss: 2.1531\n",
            "\n",
            "Epoch 00018: loss improved from 2.37210 to 2.15306, saving model to next_words.h5\n",
            "Epoch 19/70\n",
            "1959/1959 [==============================] - 30s 15ms/step - loss: 1.9439\n",
            "\n",
            "Epoch 00019: loss improved from 2.15306 to 1.94393, saving model to next_words.h5\n",
            "Epoch 20/70\n",
            "1959/1959 [==============================] - 30s 16ms/step - loss: 1.7422\n",
            "\n",
            "Epoch 00020: loss improved from 1.94393 to 1.74222, saving model to next_words.h5\n",
            "Epoch 21/70\n",
            "1959/1959 [==============================] - 30s 15ms/step - loss: 1.5599\n",
            "\n",
            "Epoch 00021: loss improved from 1.74222 to 1.55992, saving model to next_words.h5\n",
            "Epoch 22/70\n",
            "1959/1959 [==============================] - 30s 15ms/step - loss: 1.3994\n",
            "\n",
            "Epoch 00022: loss improved from 1.55992 to 1.39941, saving model to next_words.h5\n",
            "Epoch 23/70\n",
            "1959/1959 [==============================] - 30s 15ms/step - loss: 1.2620\n",
            "\n",
            "Epoch 00023: loss improved from 1.39941 to 1.26204, saving model to next_words.h5\n",
            "Epoch 24/70\n",
            "1959/1959 [==============================] - 30s 15ms/step - loss: 1.1464\n",
            "\n",
            "Epoch 00024: loss improved from 1.26204 to 1.14640, saving model to next_words.h5\n",
            "Epoch 25/70\n",
            "1959/1959 [==============================] - 30s 15ms/step - loss: 1.0492\n",
            "\n",
            "Epoch 00025: loss improved from 1.14640 to 1.04921, saving model to next_words.h5\n",
            "Epoch 26/70\n",
            "1959/1959 [==============================] - 30s 15ms/step - loss: 0.9733\n",
            "\n",
            "Epoch 00026: loss improved from 1.04921 to 0.97328, saving model to next_words.h5\n",
            "Epoch 27/70\n",
            "1959/1959 [==============================] - 30s 15ms/step - loss: 0.9054\n",
            "\n",
            "Epoch 00027: loss improved from 0.97328 to 0.90537, saving model to next_words.h5\n",
            "Epoch 28/70\n",
            "1959/1959 [==============================] - 30s 15ms/step - loss: 0.8547\n",
            "\n",
            "Epoch 00028: loss improved from 0.90537 to 0.85473, saving model to next_words.h5\n",
            "Epoch 29/70\n",
            "1959/1959 [==============================] - 30s 15ms/step - loss: 0.8096\n",
            "\n",
            "Epoch 00029: loss improved from 0.85473 to 0.80957, saving model to next_words.h5\n",
            "Epoch 30/70\n",
            "1959/1959 [==============================] - 30s 15ms/step - loss: 0.7745\n",
            "\n",
            "Epoch 00030: loss improved from 0.80957 to 0.77445, saving model to next_words.h5\n",
            "Epoch 31/70\n",
            "1959/1959 [==============================] - 30s 15ms/step - loss: 0.7423\n",
            "\n",
            "Epoch 00031: loss improved from 0.77445 to 0.74230, saving model to next_words.h5\n",
            "Epoch 32/70\n",
            "1959/1959 [==============================] - 30s 15ms/step - loss: 0.7175\n",
            "\n",
            "Epoch 00032: loss improved from 0.74230 to 0.71750, saving model to next_words.h5\n",
            "Epoch 33/70\n",
            "1959/1959 [==============================] - 30s 15ms/step - loss: 0.6969\n",
            "\n",
            "Epoch 00033: loss improved from 0.71750 to 0.69693, saving model to next_words.h5\n",
            "Epoch 34/70\n",
            "1959/1959 [==============================] - 30s 15ms/step - loss: 0.6715\n",
            "\n",
            "Epoch 00034: loss improved from 0.69693 to 0.67148, saving model to next_words.h5\n",
            "Epoch 35/70\n",
            "1959/1959 [==============================] - 30s 15ms/step - loss: 0.6574\n",
            "\n",
            "Epoch 00035: loss improved from 0.67148 to 0.65738, saving model to next_words.h5\n",
            "Epoch 36/70\n",
            "1959/1959 [==============================] - 30s 15ms/step - loss: 0.6427\n",
            "\n",
            "Epoch 00036: loss improved from 0.65738 to 0.64275, saving model to next_words.h5\n",
            "Epoch 37/70\n",
            "1959/1959 [==============================] - 30s 15ms/step - loss: 0.6259\n",
            "\n",
            "Epoch 00037: loss improved from 0.64275 to 0.62590, saving model to next_words.h5\n",
            "Epoch 38/70\n",
            "1959/1959 [==============================] - 30s 15ms/step - loss: 0.6145\n",
            "\n",
            "Epoch 00038: loss improved from 0.62590 to 0.61449, saving model to next_words.h5\n",
            "Epoch 39/70\n",
            "1959/1959 [==============================] - 30s 15ms/step - loss: 0.6042\n",
            "\n",
            "Epoch 00039: loss improved from 0.61449 to 0.60418, saving model to next_words.h5\n",
            "Epoch 40/70\n",
            "1959/1959 [==============================] - 30s 15ms/step - loss: 0.5946\n",
            "\n",
            "Epoch 00040: loss improved from 0.60418 to 0.59463, saving model to next_words.h5\n",
            "Epoch 41/70\n",
            "1959/1959 [==============================] - 30s 15ms/step - loss: 0.5807\n",
            "\n",
            "Epoch 00041: loss improved from 0.59463 to 0.58068, saving model to next_words.h5\n",
            "Epoch 42/70\n",
            "1959/1959 [==============================] - 30s 15ms/step - loss: 0.5711\n",
            "\n",
            "Epoch 00042: loss improved from 0.58068 to 0.57108, saving model to next_words.h5\n",
            "Epoch 43/70\n",
            "1959/1959 [==============================] - 30s 15ms/step - loss: 0.5639\n",
            "\n",
            "Epoch 00043: loss improved from 0.57108 to 0.56392, saving model to next_words.h5\n",
            "Epoch 44/70\n",
            "1959/1959 [==============================] - 30s 15ms/step - loss: 0.5542\n",
            "\n",
            "Epoch 00044: loss improved from 0.56392 to 0.55424, saving model to next_words.h5\n",
            "Epoch 45/70\n",
            "1959/1959 [==============================] - 30s 15ms/step - loss: 0.5482\n",
            "\n",
            "Epoch 00045: loss improved from 0.55424 to 0.54818, saving model to next_words.h5\n",
            "Epoch 46/70\n",
            "1959/1959 [==============================] - 30s 15ms/step - loss: 0.5383\n",
            "\n",
            "Epoch 00046: loss improved from 0.54818 to 0.53834, saving model to next_words.h5\n",
            "Epoch 47/70\n",
            "1959/1959 [==============================] - 30s 15ms/step - loss: 0.5349\n",
            "\n",
            "Epoch 00047: loss improved from 0.53834 to 0.53493, saving model to next_words.h5\n",
            "Epoch 48/70\n",
            "1959/1959 [==============================] - 30s 15ms/step - loss: 0.5288\n",
            "\n",
            "Epoch 00048: loss improved from 0.53493 to 0.52876, saving model to next_words.h5\n",
            "Epoch 49/70\n",
            "1959/1959 [==============================] - 30s 15ms/step - loss: 0.5195\n",
            "\n",
            "Epoch 00049: loss improved from 0.52876 to 0.51948, saving model to next_words.h5\n",
            "Epoch 50/70\n",
            "1959/1959 [==============================] - 30s 15ms/step - loss: 0.5180\n",
            "\n",
            "Epoch 00050: loss improved from 0.51948 to 0.51797, saving model to next_words.h5\n",
            "Epoch 51/70\n",
            "1959/1959 [==============================] - 30s 15ms/step - loss: 0.5104\n",
            "\n",
            "Epoch 00051: loss improved from 0.51797 to 0.51039, saving model to next_words.h5\n",
            "Epoch 52/70\n",
            "1959/1959 [==============================] - 30s 15ms/step - loss: 0.5051\n",
            "\n",
            "Epoch 00052: loss improved from 0.51039 to 0.50507, saving model to next_words.h5\n",
            "Epoch 53/70\n",
            "1959/1959 [==============================] - 30s 16ms/step - loss: 0.4987\n",
            "\n",
            "Epoch 00053: loss improved from 0.50507 to 0.49873, saving model to next_words.h5\n",
            "Epoch 54/70\n",
            "1959/1959 [==============================] - 30s 15ms/step - loss: 0.4974\n",
            "\n",
            "Epoch 00054: loss improved from 0.49873 to 0.49745, saving model to next_words.h5\n",
            "Epoch 55/70\n",
            "1959/1959 [==============================] - 30s 15ms/step - loss: 0.4908\n",
            "\n",
            "Epoch 00055: loss improved from 0.49745 to 0.49083, saving model to next_words.h5\n",
            "Epoch 56/70\n",
            "1959/1959 [==============================] - 30s 15ms/step - loss: 0.4861\n",
            "\n",
            "Epoch 00056: loss improved from 0.49083 to 0.48613, saving model to next_words.h5\n",
            "Epoch 57/70\n",
            "1959/1959 [==============================] - 30s 16ms/step - loss: 0.4826\n",
            "\n",
            "Epoch 00057: loss improved from 0.48613 to 0.48259, saving model to next_words.h5\n",
            "Epoch 58/70\n",
            "1959/1959 [==============================] - 30s 16ms/step - loss: 0.4804\n",
            "\n",
            "Epoch 00058: loss improved from 0.48259 to 0.48044, saving model to next_words.h5\n",
            "Epoch 59/70\n",
            "1959/1959 [==============================] - 30s 16ms/step - loss: 0.4711\n",
            "\n",
            "Epoch 00059: loss improved from 0.48044 to 0.47111, saving model to next_words.h5\n",
            "Epoch 60/70\n",
            "1959/1959 [==============================] - 30s 16ms/step - loss: 0.4707\n",
            "\n",
            "Epoch 00060: loss improved from 0.47111 to 0.47073, saving model to next_words.h5\n",
            "Epoch 61/70\n",
            "1959/1959 [==============================] - 30s 15ms/step - loss: 0.4662\n",
            "\n",
            "Epoch 00061: loss improved from 0.47073 to 0.46620, saving model to next_words.h5\n",
            "Epoch 62/70\n",
            "1959/1959 [==============================] - 30s 15ms/step - loss: 0.4713\n",
            "\n",
            "Epoch 00062: loss did not improve from 0.46620\n",
            "Epoch 63/70\n",
            "1959/1959 [==============================] - 30s 15ms/step - loss: 0.4584\n",
            "\n",
            "Epoch 00063: loss improved from 0.46620 to 0.45838, saving model to next_words.h5\n",
            "Epoch 64/70\n",
            "1959/1959 [==============================] - 30s 15ms/step - loss: 0.4590\n",
            "\n",
            "Epoch 00064: loss did not improve from 0.45838\n",
            "Epoch 65/70\n",
            "1959/1959 [==============================] - 30s 16ms/step - loss: 0.4519\n",
            "\n",
            "Epoch 00065: loss improved from 0.45838 to 0.45192, saving model to next_words.h5\n",
            "Epoch 66/70\n",
            "1959/1959 [==============================] - 30s 15ms/step - loss: 0.4520\n",
            "\n",
            "Epoch 00066: loss did not improve from 0.45192\n",
            "Epoch 67/70\n",
            "1959/1959 [==============================] - 30s 15ms/step - loss: 0.4509\n",
            "\n",
            "Epoch 00067: loss improved from 0.45192 to 0.45086, saving model to next_words.h5\n",
            "Epoch 68/70\n",
            "1959/1959 [==============================] - 31s 16ms/step - loss: 0.4506\n",
            "\n",
            "Epoch 00068: loss improved from 0.45086 to 0.45061, saving model to next_words.h5\n",
            "Epoch 69/70\n",
            "1959/1959 [==============================] - 31s 16ms/step - loss: 0.4400\n",
            "\n",
            "Epoch 00069: loss improved from 0.45061 to 0.44001, saving model to next_words.h5\n",
            "Epoch 70/70\n",
            "1959/1959 [==============================] - 30s 15ms/step - loss: 0.4417\n",
            "\n",
            "Epoch 00070: loss did not improve from 0.44001\n"
          ],
          "name": "stdout"
        },
        {
          "output_type": "execute_result",
          "data": {
            "text/plain": [
              "<tensorflow.python.keras.callbacks.History at 0x7f1b6950cc10>"
            ]
          },
          "metadata": {
            "tags": []
          },
          "execution_count": 16
        }
      ]
    },
    {
      "cell_type": "markdown",
      "metadata": {
        "id": "-lrH_LIw4QDo"
      },
      "source": [
        "# Prediction:"
      ]
    },
    {
      "cell_type": "code",
      "metadata": {
        "id": "cnK4o4TA4UJ4"
      },
      "source": [
        "from tensorflow.keras.models import load_model\n",
        "import numpy as np\n",
        "import pickle\n",
        "\n",
        "# Load the model and tokenizer\n",
        "model = load_model('next_words.h5')\n",
        "tokenizer = pickle.load(open('token.pkl', 'rb'))\n",
        "\n",
        "def Predict_Next_Words(model, tokenizer, text):\n",
        "\n",
        "  sequence = tokenizer.texts_to_sequences([text])\n",
        "  sequence = np.array(sequence)\n",
        "  preds = np.argmax(model.predict(sequence))\n",
        "  predicted_word = \"\"\n",
        "  \n",
        "  for key, value in tokenizer.word_index.items():\n",
        "      if value == preds:\n",
        "          predicted_word = key\n",
        "          break\n",
        "  \n",
        "  print(predicted_word)\n",
        "  return predicted_word"
      ],
      "execution_count": 17,
      "outputs": []
    },
    {
      "cell_type": "code",
      "metadata": {
        "colab": {
          "base_uri": "https://localhost:8080/"
        },
        "id": "qPDbfiDp4b7J",
        "outputId": "6b2dd2fb-f7e9-4a8d-a0eb-f640a988a735"
      },
      "source": [
        "while(True):\n",
        "  text = input(\"Enter your line: \")\n",
        "  \n",
        "  if text == \"0\":\n",
        "      print(\"Execution completed.....\")\n",
        "      break\n",
        "  \n",
        "  else:\n",
        "      try:\n",
        "          text = text.split(\" \")\n",
        "          text = text[-3:]\n",
        "          print(text)\n",
        "        \n",
        "          Predict_Next_Words(model, tokenizer, text)\n",
        "          \n",
        "      except Exception as e:\n",
        "        print(\"Error occurred: \",e)\n",
        "        continue"
      ],
      "execution_count": 18,
      "outputs": [
        {
          "output_type": "stream",
          "text": [
            "Enter your line: after the melancholy scene so lately\n",
            "['scene', 'so', 'lately']\n",
            "gone\n",
            "Enter your line: 0\n",
            "Execution completed.....\n"
          ],
          "name": "stdout"
        }
      ]
    }
  ]
}